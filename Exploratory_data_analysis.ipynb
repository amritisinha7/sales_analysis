{
 "cells": [
  {
   "cell_type": "markdown",
   "id": "15d56132-0407-4b36-bbdf-bb949b9106dc",
   "metadata": {},
   "source": [
    "## EXPLORATORY DATA ANALYSIS"
   ]
  },
  {
   "cell_type": "raw",
   "id": "bf7cb686-a57d-4fab-b76e-8bd386e38b8c",
   "metadata": {},
   "source": [
    "EDA (Exploratory Data Analysis) is the process of analyzing and summarizing the main characteristics of a dataset, often using visual methods. It’s typically the first step in data analysis or machine learning to understand the data before building any model."
   ]
  },
  {
   "cell_type": "raw",
   "id": "358b0462-e43b-496d-89ec-41223dc5baef",
   "metadata": {},
   "source": [
    "in our data set we will do\n",
    "*Vendor selectio for profitability\n",
    "*product Pricing Optimization"
   ]
  },
  {
   "cell_type": "code",
   "execution_count": null,
   "id": "43ec771f-4a20-494f-847e-0f95dcf61ab3",
   "metadata": {},
   "outputs": [],
   "source": [
    "import pandas as pd\n",
    "import sqlite3"
   ]
  },
  {
   "cell_type": "code",
   "execution_count": null,
   "id": "e283d9cb-1545-4a06-8284-3c0dcca0c8dd",
   "metadata": {},
   "outputs": [],
   "source": [
    "# connecting database connection\n",
    "conn=sqlite3.connect('inventory.db')"
   ]
  },
  {
   "cell_type": "code",
   "execution_count": null,
   "id": "7e4822c0-b36d-40f3-b656-8a9eb5ec7657",
   "metadata": {},
   "outputs": [],
   "source": [
    "# checking tables present in the database\n",
    "tables=pd.read_sql_query(\"SELECT name FROM sqlite_master WHERE TYPE ='table'\",conn)\n",
    "tables"
   ]
  },
  {
   "cell_type": "code",
   "execution_count": null,
   "id": "af170c11-15e2-4c69-bc35-fe8f8579b459",
   "metadata": {},
   "outputs": [],
   "source": [
    "pd.read_sql(\"select count (*) from purchases\",conn)"
   ]
  },
  {
   "cell_type": "code",
   "execution_count": null,
   "id": "14bffc6c-ce26-4485-b588-d3a963f60783",
   "metadata": {},
   "outputs": [],
   "source": [
    "for table in tables['name']:\n",
    "    print('-' * 50, f'{table}', '_' * 50)\n",
    "    \n",
    "    count_query = f\"SELECT COUNT(*) as count FROM {table}\"\n",
    "    count = pd.read_sql(count_query, conn)['count'].values[0]\n",
    "    print(f'Count of records: {count}')\n",
    "    \n",
    "    display(pd.read_sql(f\"SELECT * FROM {table} limit 5\", conn))\n"
   ]
  },
  {
   "cell_type": "code",
   "execution_count": null,
   "id": "cd0a0e43-3c86-448f-a8b0-23109d635a01",
   "metadata": {},
   "outputs": [],
   "source": [
    "for table in tables['name']:\n",
    "    df = pd.read_sql(f\"SELECT * FROM {table} LIMIT 1\", conn)  # Get one row\n",
    "    print(f\"Table: {table}\")\n",
    "    print(\"Columns:\", df.columns.tolist())\n",
    "    print('-' * 50)"
   ]
  },
  {
   "cell_type": "markdown",
   "id": "5dc7f408-8a41-41c7-8dcf-d24b0974479a",
   "metadata": {},
   "source": [
    "### Analysis 4466 vendor using the all tables"
   ]
  },
  {
   "cell_type": "code",
   "execution_count": null,
   "id": "3ef68740-6b27-4fd8-99ce-ffe4f4d05732",
   "metadata": {},
   "outputs": [],
   "source": [
    "purchases=pd.read_sql_query(\"select*from purchases where VendorNumber=4466\",conn)\n",
    "purchases"
   ]
  },
  {
   "cell_type": "code",
   "execution_count": null,
   "id": "ec0c8e87-eaad-40a3-aca7-cdbca4d44def",
   "metadata": {},
   "outputs": [],
   "source": [
    "purchases_prices=pd.read_sql_query(\"select * from purchase_prices where VendorNumber = 4466\",conn)\n",
    "purchases_prices"
   ]
  },
  {
   "cell_type": "code",
   "execution_count": null,
   "id": "7a6d24bf-5150-492b-abcd-63fe24420d8e",
   "metadata": {},
   "outputs": [],
   "source": [
    "sales=pd.read_sql_query(\"select * from sales where VendorNo = 4466\",conn)\n",
    "sales"
   ]
  },
  {
   "cell_type": "code",
   "execution_count": null,
   "id": "5cd984ba-8585-4516-aeba-8c05f7a321f1",
   "metadata": {},
   "outputs": [],
   "source": [
    "vendor_invoice=pd.read_sql_query(\"select*from vendor_invoice where VendorNumber=4466\",conn)\n",
    "vendor_invoice"
   ]
  },
  {
   "cell_type": "code",
   "execution_count": null,
   "id": "5f2f512c-6034-4dc4-bdaa-f742731882dd",
   "metadata": {},
   "outputs": [],
   "source": [
    "purchases.groupby(['Brand','PurchasePrice'])(['Quantity','Dollars']).sum()"
   ]
  },
  {
   "cell_type": "code",
   "execution_count": null,
   "id": "641909f1-f57d-4833-91f2-dd6a7d126525",
   "metadata": {},
   "outputs": [],
   "source": [
    "purchases.groupby(['Brand', 'PurchasePrice'])[['Quantity', 'Dollars']].sum()\n"
   ]
  },
  {
   "cell_type": "code",
   "execution_count": null,
   "id": "1ee5a5e9-f052-4c7d-85da-5af959b022e0",
   "metadata": {},
   "outputs": [],
   "source": [
    "purchases_prices"
   ]
  },
  {
   "cell_type": "markdown",
   "id": "c5c07591-b899-4cd7-9607-23767efe6482",
   "metadata": {},
   "source": [
    "### using sales datasets"
   ]
  },
  {
   "cell_type": "code",
   "execution_count": null,
   "id": "7780a44c-8494-4378-9ee1-2151300c1300",
   "metadata": {},
   "outputs": [],
   "source": [
    "sales.groupby(['Brand'])[['SalesDollars','SalesPrice','SalesQuantity']].sum()"
   ]
  },
  {
   "cell_type": "markdown",
   "id": "0af8d224-393a-45ab-9bc2-2c932358f7c5",
   "metadata": {},
   "source": [
    "### comparision purchases and sales"
   ]
  },
  {
   "cell_type": "code",
   "execution_count": null,
   "id": "78fe0dc8-2e78-476b-9ec2-21b18b9513ee",
   "metadata": {},
   "outputs": [],
   "source": [
    "# Step 1: Aggregate sales data\n",
    "sales_summary = sales.groupby('Brand')[['SalesDollars', 'SalesPrice', 'SalesQuantity']].sum().reset_index()\n",
    "\n",
    "# Step 2: Aggregate purchases data\n",
    "purchase_summary = purchases.groupby('Brand')[['Dollars', 'Quantity']].sum().reset_index()\n",
    "\n",
    "# Step 3: Merge the two summaries on 'Brand'\n",
    "comparison = pd.merge(sales_summary, purchase_summary, on='Brand', how='outer')\n",
    "\n",
    "# Display the comparison\n",
    "print(comparison)"
   ]
  },
  {
   "cell_type": "raw",
   "id": "6f5d3559-1282-4671-90c7-020a86268902",
   "metadata": {},
   "source": [
    "The data required for analysis is distributed across multiple tables, each containing specific types of information.\n",
    "\n",
    "The **purchases table** holds actual purchase details, including the date, product brands, vendors, purchase amounts (in dollars), and quantities purchased.\n",
    "\n",
    "The **purchase price** values are derived from the **purchase\\_prices table**, which provides brand- and product-specific pricing, ensuring uniqueness for each vendor-brand combination. \n",
    "Additionally,\n",
    "\n",
    "the **vendor\\_invoice table** aggregates data from the purchases table, summarizing both quantity and dollar amounts, and includes a freight cost(cost of shipments) column. This table is uniquely identified by vendor and purchase order number.\n",
    "\n",
    "On the sales side, the **sales table** contains actual transaction data, detailing the brands sold by vendors, quantities sold, selling prices, and total revenue.\n",
    "\n",
    "To effectively analyze this data, a **summary table** must be created. This summary table should combine key information, \n",
    "including purchase transactions made by vendors, \n",
    "sales transaction data, \n",
    "freight costs for each vendor, \n",
    "and the actual product prices obtained from vendors.\n"
   ]
  },
  {
   "cell_type": "markdown",
   "id": "d08ef464-9e24-4925-8a8a-d89e39a5ab0e",
   "metadata": {},
   "source": [
    "### FINDING THE SUM OF FREIGHT COST ACCORDING TO VENDOR NUMBER"
   ]
  },
  {
   "cell_type": "code",
   "execution_count": null,
   "id": "80565c2f-8479-442a-8b9d-4e9fd5b6d9d0",
   "metadata": {},
   "outputs": [],
   "source": [
    "freight_summary=pd.read_sql_query(\"\"\"select VendorNumber,SUM(Freight) as FreightCost \n",
    "from vendor_invoice\n",
    "Group BY VendorName\"\"\",conn)"
   ]
  },
  {
   "cell_type": "code",
   "execution_count": null,
   "id": "2e129925-cddf-41bb-bc55-6f8b618361fc",
   "metadata": {},
   "outputs": [],
   "source": [
    "freight_summary"
   ]
  },
  {
   "cell_type": "markdown",
   "id": "ea655f40-90b9-483d-b279-9088227a3aa5",
   "metadata": {},
   "source": [
    "### summary from table purchases and from purchases_price table"
   ]
  },
  {
   "cell_type": "code",
   "execution_count": null,
   "id": "4a69a379-2d3b-4a69-a9ff-d6629b75750a",
   "metadata": {},
   "outputs": [],
   "source": [
    "pd.read_sql_query(\"\"\"\n",
    "SELECT \n",
    "    p.VendorNumber,\n",
    "    p.VendorName,\n",
    "    p.Brand,\n",
    "    p.PurchasePrice,\n",
    "    pp.Volume,\n",
    "    pp.Price as ActualPrice,\n",
    "    SUM(p.Quantity) as TotalPurchaseQuantity,\n",
    "    SUM(p.Dollars) as TotalPurchaseDollars\n",
    "FROM purchases p\n",
    "JOIN purchase_prices pp\n",
    "    ON p.Brand = pp.Brand\n",
    "WHERE p.PurchasePrice > 0\n",
    "GROUP BY p.VendorNumber, p.VendorName, p.Brand\n",
    "ORDER BY TotalPurchaseDollars\n",
    "\"\"\", conn)\n"
   ]
  },
  {
   "cell_type": "markdown",
   "id": "20adfc8d-e3f8-4d12-8bda-bae7c38dea1a",
   "metadata": {},
   "source": [
    "when we remove the condition Where p.purchasePrice >0 it give o/p having o purchasePrise but it is not possible may be data is incorrect"
   ]
  },
  {
   "cell_type": "markdown",
   "id": "bf493c95-02a7-4398-a357-08ddb5d5462f",
   "metadata": {},
   "source": [
    "### summary from Sales Table"
   ]
  },
  {
   "cell_type": "code",
   "execution_count": null,
   "id": "4625a555-1905-4412-a2b1-35956e1bb61e",
   "metadata": {},
   "outputs": [],
   "source": [
    "Sales = pd.read_sql_query(\"SELECT * FROM sales\", conn)\n"
   ]
  },
  {
   "cell_type": "code",
   "execution_count": null,
   "id": "64b54c78-cfc7-4142-a12e-9aa5e3d04255",
   "metadata": {},
   "outputs": [],
   "source": [
    "Sales.columns\n"
   ]
  },
  {
   "cell_type": "code",
   "execution_count": null,
   "id": "d90db2a4-2a7d-4d9c-b070-e8184c4aa3bf",
   "metadata": {},
   "outputs": [],
   "source": [
    "pd.read_sql_query(\"\"\"\n",
    "SELECT \n",
    "    VendorNo,\n",
    "    Brand,\n",
    "    SUM(SalesDollars) as TotalSalesDollars,\n",
    "    SUM(SalesPrice) as TotalSalesPrice,\n",
    "    SUM(SalesQuantity) as TotalSalesQuantity,\n",
    "    SUM(ExciseTax) as TotalExciseTax\n",
    "FROM sales\n",
    "GROUP BY VendorNo, Brand\n",
    "ORDER BY TotalSalesDollars\n",
    "\"\"\", conn)\n"
   ]
  },
  {
   "cell_type": "markdown",
   "id": "505038b2-e8f8-454b-ae71-702d78e0c6f7",
   "metadata": {},
   "source": [
    "### We will join the above three table by using join"
   ]
  },
  {
   "cell_type": "code",
   "execution_count": null,
   "id": "4ff02c32-4bd8-4f8c-a1e7-23805b9cfa3e",
   "metadata": {},
   "outputs": [],
   "source": [
    "## query optimization is very issential"
   ]
  },
  {
   "cell_type": "code",
   "execution_count": null,
   "id": "b2a8c384-11d8-43a1-b7db-418b2e2b328f",
   "metadata": {},
   "outputs": [],
   "source": [
    "vendor_sales_summary = pd.read_sql_query(\"\"\"\n",
    "WITH FreightSummary AS (\n",
    "    SELECT\n",
    "        VendorNumber,\n",
    "        SUM(Freight) AS FreightCost\n",
    "    FROM vendor_invoice\n",
    "    GROUP BY VendorNumber\n",
    "),\n",
    "PurchaseSummary AS (\n",
    "    SELECT\n",
    "        p.VendorNumber,\n",
    "        p.VendorName,\n",
    "        p.Brand,\n",
    "        p.Description,\n",
    "        p.PurchasePrice,\n",
    "        pp.Price AS ActualPrice,\n",
    "        pp.Volume,\n",
    "        SUM(p.Quantity) AS TotalPurchaseQuantity,\n",
    "        SUM(p.Dollars) AS TotalPurchaseDollars\n",
    "    FROM purchases p\n",
    "    JOIN purchase_prices pp\n",
    "        ON p.Brand = pp.Brand\n",
    "    WHERE p.PurchasePrice > 0\n",
    "    GROUP BY p.VendorNumber, p.VendorName, p.Brand, p.Description, p.PurchasePrice, pp.Price, pp.Volume\n",
    "),\n",
    "SalesSummary AS (\n",
    "    SELECT\n",
    "        VendorNo,\n",
    "        Brand,\n",
    "        SUM(SalesQuantity) AS TotalSalesQuantity,\n",
    "        SUM(SalesDollars) AS TotalSalesDollars,\n",
    "        SUM(SalesPrice) AS TotalSalesPrice,\n",
    "        SUM(ExciseTax) AS TotalExciseTax\n",
    "    FROM sales\n",
    "    GROUP BY VendorNo, Brand\n",
    ")\n",
    "SELECT\n",
    "    ps.VendorNumber,\n",
    "    ps.VendorName,\n",
    "    ps.Brand,\n",
    "    ps.Description,\n",
    "    ps.PurchasePrice,\n",
    "    ps.ActualPrice,\n",
    "    ps.Volume,\n",
    "    ps.TotalPurchaseQuantity,\n",
    "    ps.TotalPurchaseDollars,\n",
    "    ss.TotalSalesQuantity,\n",
    "    ss.TotalSalesDollars,\n",
    "    ss.TotalSalesPrice,\n",
    "    ss.TotalExciseTax,\n",
    "    fs.FreightCost\n",
    "FROM PurchaseSummary ps\n",
    "LEFT JOIN SalesSummary ss\n",
    "    ON ps.VendorNumber = ss.VendorNo\n",
    "    AND ps.Brand = ss.Brand\n",
    "LEFT JOIN FreightSummary fs\n",
    "    ON ps.VendorNumber = fs.VendorNumber\n",
    "ORDER BY ps.TotalPurchaseDollars DESC\n",
    "\"\"\", conn)\n"
   ]
  },
  {
   "cell_type": "code",
   "execution_count": null,
   "id": "05e3807a-8a34-4344-97ff-1c3537211117",
   "metadata": {},
   "outputs": [],
   "source": [
    "vendor_sales_summary"
   ]
  },
  {
   "cell_type": "raw",
   "id": "7acbf4b8-f3c5-4937-996f-a1967c8dbc6d",
   "metadata": {},
   "source": [
    "This query generates a vendor-wise sales and purchase summary.\n",
    "\n",
    "performance Optimization:\n",
    "\n",
    "The query involves heavy joins and aggregations on large datasets like sales and purchases.\n",
    "\n",
    "Storing the pre-aggregated results avoids repeated expensive computations.\n",
    "\n",
    "It helps in analyzing sales, purchases, and pricing for different vendors and brands.\n",
    "\n",
    "There are future benefits of storing this data for faster dashboarding and reporting.\n",
    "\n",
    "Instead of running expensive queries each time, dashboards can fetch data quickly from vendor_sales_summary."
   ]
  },
  {
   "cell_type": "markdown",
   "id": "315c8acc-933f-419a-a97c-3cb2568d0f03",
   "metadata": {},
   "source": [
    "#### After creating summary data we will check for cleaning and other EDA work"
   ]
  },
  {
   "cell_type": "code",
   "execution_count": null,
   "id": "b8629d3f-0c3d-4d81-a359-a131122b15ee",
   "metadata": {},
   "outputs": [],
   "source": [
    "vendor_sales_summary.info()\n"
   ]
  },
  {
   "cell_type": "code",
   "execution_count": null,
   "id": "ec06aa27-35a0-412b-b023-a665a0bcb1a5",
   "metadata": {},
   "outputs": [],
   "source": [
    "vendor_sales_summary.isnull().sum()"
   ]
  },
  {
   "cell_type": "code",
   "execution_count": null,
   "id": "bae57d8b-afac-4006-a373-852809f4cbe0",
   "metadata": {},
   "outputs": [],
   "source": [
    "vendor_sales_summary.head()"
   ]
  },
  {
   "cell_type": "code",
   "execution_count": null,
   "id": "d75c28be-81c7-4481-ac84-d6d36dab93c7",
   "metadata": {
    "scrolled": true
   },
   "outputs": [],
   "source": [
    "vendor_sales_summary['VendorName'].unique()"
   ]
  },
  {
   "cell_type": "code",
   "execution_count": null,
   "id": "f8a8f827-db75-4d7d-a74b-e6e41ae5af9c",
   "metadata": {},
   "outputs": [],
   "source": [
    "vendor_sales_summary['Description'].unique()"
   ]
  },
  {
   "cell_type": "markdown",
   "id": "a17de144-2674-41c9-a5a6-2fbff749ab81",
   "metadata": {},
   "source": [
    "#### we find three inconsistance in our vendor_sales_summary data set \n",
    "#1.volume data type is object instead of int\n",
    "#2.white spapaes in vendor name\n",
    "#3.null values (It occurred because the product was not purchased by anyone.)"
   ]
  },
  {
   "cell_type": "code",
   "execution_count": null,
   "id": "b730e7d2-4002-4eba-826f-f7936a423746",
   "metadata": {},
   "outputs": [],
   "source": [
    "vendor_sales_summary['Volume']=vendor_sales_summary['Volume'].astype('float64')"
   ]
  },
  {
   "cell_type": "code",
   "execution_count": null,
   "id": "c07a68b5-de02-42df-953a-0ecef8520ba4",
   "metadata": {},
   "outputs": [],
   "source": [
    "vendor_sales_summary.fillna(0 ,inplace=True)"
   ]
  },
  {
   "cell_type": "code",
   "execution_count": null,
   "id": "21db7b2d-9685-42ce-9f64-b0709e1e95a5",
   "metadata": {},
   "outputs": [],
   "source": [
    "vendor_sales_summary['VendorName']=vendor_sales_summary['VendorName'].str.strip()"
   ]
  },
  {
   "cell_type": "code",
   "execution_count": null,
   "id": "bf67ea1b-ae5b-4164-b6d5-3e14f3bedaa6",
   "metadata": {},
   "outputs": [],
   "source": [
    "vendor_sales_summary.isnull().sum()"
   ]
  },
  {
   "cell_type": "code",
   "execution_count": null,
   "id": "d32c3e12-fbf8-41c4-b5ca-96e1662dff43",
   "metadata": {},
   "outputs": [],
   "source": [
    "vendor_sales_summary['VendorName'].unique()"
   ]
  },
  {
   "cell_type": "code",
   "execution_count": null,
   "id": "ae2b3f70-3b1d-4302-bf67-32f857334437",
   "metadata": {},
   "outputs": [],
   "source": [
    "vendor_sales_summary.info()"
   ]
  },
  {
   "cell_type": "markdown",
   "id": "04878d1b-a581-40de-b1d9-8eac24fe6259",
   "metadata": {},
   "source": [
    "### now we will create more columns with new features like:\n",
    "#1.gross margin \n",
    "#2.Stock turnover\n",
    "#3.gross profit,etc"
   ]
  },
  {
   "cell_type": "markdown",
   "id": "f806a78d-bad1-42f2-95d6-9b97a8f7acfa",
   "metadata": {},
   "source": [
    "### 1.Gross Profit ( Sales price- Actual Price/purchase price)in dollers"
   ]
  },
  {
   "cell_type": "code",
   "execution_count": null,
   "id": "87945989-62c8-43aa-9495-cbe4cc20fcbc",
   "metadata": {},
   "outputs": [],
   "source": [
    "vendor_sales_summary['GrossProfit']=vendor_sales_summary['TotalSalesDollars']-vendor_sales_summary['TotalPurchaseDollars']"
   ]
  },
  {
   "cell_type": "code",
   "execution_count": null,
   "id": "22ccc9bc-19ec-4833-97bb-bde75db71915",
   "metadata": {
    "scrolled": true
   },
   "outputs": [],
   "source": [
    "vendor_sales_summary"
   ]
  },
  {
   "cell_type": "markdown",
   "id": "987e26ea-76a3-4248-a4bf-a6e3f2a37b8e",
   "metadata": {},
   "source": [
    "### Calculating Progit Margin in Percentage"
   ]
  },
  {
   "cell_type": "code",
   "execution_count": null,
   "id": "08a92dd2-0370-4cea-b33d-cb1fddac2bc3",
   "metadata": {},
   "outputs": [],
   "source": [
    "vendor_sales_summary['ProfitMargin']=(vendor_sales_summary['GrossProfit']/vendor_sales_summary['TotalSalesDollars'])*100"
   ]
  },
  {
   "cell_type": "code",
   "execution_count": null,
   "id": "21bc93f0-7ae3-4dd1-8577-285a399e3754",
   "metadata": {},
   "outputs": [],
   "source": [
    "vendor_sales_summary.head()"
   ]
  },
  {
   "cell_type": "markdown",
   "id": "8ed9621f-8641-476b-a79c-256b6073caad",
   "metadata": {},
   "source": [
    "### Calcutating Stock Turnover \n",
    "#when a vendor purchase a product all sells all the quantity of the product then stock turnover is 1 other wise less than 1\n",
    "#if it is greater than 1 then vendors have previous stock which they are selling with the new quantity"
   ]
  },
  {
   "cell_type": "code",
   "execution_count": null,
   "id": "47c32662-8edf-4ad8-9544-557708a7427b",
   "metadata": {},
   "outputs": [],
   "source": [
    "vendor_sales_summary['StockTurnover']=vendor_sales_summary['TotalSalesQuantity']/vendor_sales_summary['TotalPurchaseQuantity']"
   ]
  },
  {
   "cell_type": "code",
   "execution_count": null,
   "id": "16cadfe2-36d1-4651-8fd5-0e5365cd7125",
   "metadata": {},
   "outputs": [],
   "source": [
    "vendor_sales_summary['SalestoPurchaseRatio']=vendor_sales_summary['TotalSalesDollars']/vendor_sales_summary['TotalPurchaseQuantity']"
   ]
  },
  {
   "cell_type": "code",
   "execution_count": null,
   "id": "faff38db-7eac-4ef6-9427-116b839880b8",
   "metadata": {},
   "outputs": [],
   "source": [
    "vendor_sales_summary.head()"
   ]
  },
  {
   "cell_type": "markdown",
   "id": "875faeee-ae89-4b41-9591-4a66c4e8dc22",
   "metadata": {},
   "source": [
    "## we will sane vendor_sales_summary this data in a database:\n",
    "#it can be possible by 2 methods \n",
    "#1.by sql query\n",
    "#2.by creating an empty table (used in companies)"
   ]
  },
  {
   "cell_type": "code",
   "execution_count": null,
   "id": "f0c5c7a8-a669-456b-a370-0c398d8bc4e6",
   "metadata": {},
   "outputs": [],
   "source": [
    "cursor = conn.cursor()"
   ]
  },
  {
   "cell_type": "code",
   "execution_count": null,
   "id": "ccad1a3a-45a5-4d95-b04f-ab9fee4437f9",
   "metadata": {},
   "outputs": [],
   "source": [
    "cursor.execute(\"\"\"\n",
    "CREATE TABLE vendor_sales_summary (\n",
    "    VendorNumber INT,\n",
    "    VendorName VARCHAR(100),\n",
    "    Brand INT,\n",
    "    Description VARCHAR(100),\n",
    "    PurchasePrice DECIMAL(10,2),\n",
    "    ActualPrice DECIMAL(10,2),\n",
    "    Volume INT,\n",
    "    TotalPurchaseQuantity INT,\n",
    "    TotalPurchaseDollars DECIMAL(15,2),\n",
    "    TotalSalesQuantity INT,\n",
    "    TotalSalesDollars DECIMAL(15,2),\n",
    "    TotalSalesPrice DECIMAL(15,2),\n",
    "    TotalExciseTax DECIMAL(15,2),\n",
    "    FreightCost DECIMAL(15,2),\n",
    "    GrossProfit DECIMAL(15,2),\n",
    "    ProfitMargin DECIMAL(15,2),\n",
    "    StockTurnover DECIMAL(15,2),\n",
    "    SalesToPurchaseRatio DECIMAL(15,2),\n",
    "    PRIMARY KEY (VendorNumber, Brand)\n",
    ")\n",
    "\"\"\")\n"
   ]
  },
  {
   "cell_type": "code",
   "execution_count": null,
   "id": "e4e9f77a-cd69-45a6-8518-dd5e350a63fe",
   "metadata": {},
   "outputs": [],
   "source": [
    "vendor_sales_summary.to_sql('vendor_sales_summary',conn,if_exists='replace',index=False)"
   ]
  },
  {
   "cell_type": "code",
   "execution_count": null,
   "id": "ec232110-90c4-4d97-82f6-bf418a3307da",
   "metadata": {},
   "outputs": [],
   "source": [
    "pd.read_sql_query(\"select* from vendor_sales_summary\",conn)"
   ]
  },
  {
   "cell_type": "code",
   "execution_count": null,
   "id": "202144a5-1c93-4700-a921-b16c9dc581a6",
   "metadata": {},
   "outputs": [],
   "source": [
    "import pandas as pd\n",
    "\n",
    "data.to_csv('vendor_sales_summary', index=False)\n"
   ]
  },
  {
   "cell_type": "code",
   "execution_count": null,
   "id": "8abb84d0-1f06-408c-b1c3-1788bcd94074",
   "metadata": {},
   "outputs": [],
   "source": []
  },
  {
   "cell_type": "code",
   "execution_count": null,
   "id": "007fa616-c13e-4add-8d76-1e2a4b5f2572",
   "metadata": {},
   "outputs": [],
   "source": []
  },
  {
   "cell_type": "code",
   "execution_count": null,
   "id": "4c2cf051-6fe0-4844-b707-eb5f62edca80",
   "metadata": {},
   "outputs": [],
   "source": []
  },
  {
   "cell_type": "code",
   "execution_count": null,
   "id": "d47b84d4-d47d-42a4-85a9-e25299f80876",
   "metadata": {},
   "outputs": [],
   "source": []
  },
  {
   "cell_type": "code",
   "execution_count": null,
   "id": "850be91c-053d-40cf-8fb1-f284e8f4638e",
   "metadata": {},
   "outputs": [],
   "source": []
  },
  {
   "cell_type": "code",
   "execution_count": null,
   "id": "e329a7c2-ce38-408d-8710-a7c1d6064caa",
   "metadata": {},
   "outputs": [],
   "source": []
  },
  {
   "cell_type": "code",
   "execution_count": null,
   "id": "45479fd5-93bc-45c7-8f33-3095cba941f9",
   "metadata": {},
   "outputs": [],
   "source": []
  },
  {
   "cell_type": "code",
   "execution_count": null,
   "id": "29fa8432-da93-4498-8ef2-b39db0f1e4a2",
   "metadata": {},
   "outputs": [],
   "source": []
  },
  {
   "cell_type": "code",
   "execution_count": null,
   "id": "1590c081-c573-4ba8-876a-bcc7904d4a22",
   "metadata": {},
   "outputs": [],
   "source": []
  },
  {
   "cell_type": "code",
   "execution_count": null,
   "id": "067c35e4-9875-413e-8f35-afdb4eaa0fd3",
   "metadata": {},
   "outputs": [],
   "source": []
  },
  {
   "cell_type": "code",
   "execution_count": null,
   "id": "08932ac8-4b07-48b4-8bd4-72fd9704a926",
   "metadata": {},
   "outputs": [],
   "source": []
  },
  {
   "cell_type": "code",
   "execution_count": null,
   "id": "c612c83a-0434-494c-862c-74c859a17266",
   "metadata": {},
   "outputs": [],
   "source": []
  }
 ],
 "metadata": {
  "kernelspec": {
   "display_name": "Python 3 (ipykernel)",
   "language": "python",
   "name": "python3"
  },
  "language_info": {
   "codemirror_mode": {
    "name": "ipython",
    "version": 3
   },
   "file_extension": ".py",
   "mimetype": "text/x-python",
   "name": "python",
   "nbconvert_exporter": "python",
   "pygments_lexer": "ipython3",
   "version": "3.12.7"
  }
 },
 "nbformat": 4,
 "nbformat_minor": 5
}
