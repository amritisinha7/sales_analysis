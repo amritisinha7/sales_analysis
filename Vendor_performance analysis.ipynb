{
 "cells": [
  {
   "cell_type": "code",
   "execution_count": 5,
   "id": "0b5e535a-26ef-4db9-819f-7b263897670d",
   "metadata": {},
   "outputs": [],
   "source": [
    "import matplotlib.pyplot as plt\n",
    "import seaborn as sns  \n",
    "import warnings\n",
    "import sqlite3\n",
    "from scipy.stats import ttest_ind  # for hypothesis testing\n",
    "import scipy.stats as stats\n",
    "\n",
    "warnings.filterwarnings('ignore')  # corrected 'warning' to 'warnings'\n"
   ]
  },
  {
   "cell_type": "code",
   "execution_count": null,
   "id": "2c42e960-18da-4f47-9523-406dc698bc66",
   "metadata": {},
   "outputs": [],
   "source": []
  },
  {
   "cell_type": "code",
   "execution_count": null,
   "id": "d47f64d4-4779-4c98-b0c7-6388a36e533a",
   "metadata": {},
   "outputs": [],
   "source": []
  },
  {
   "cell_type": "code",
   "execution_count": null,
   "id": "f1a4cc59-a247-42cf-928a-2b8d95ad6a1d",
   "metadata": {},
   "outputs": [],
   "source": []
  },
  {
   "cell_type": "code",
   "execution_count": null,
   "id": "00b0b55c-aeac-4f21-898b-1c2387cfcf8d",
   "metadata": {},
   "outputs": [],
   "source": []
  },
  {
   "cell_type": "code",
   "execution_count": null,
   "id": "2dbd0b86-3b3c-4c62-b3ed-4c68a7c4502b",
   "metadata": {},
   "outputs": [],
   "source": []
  },
  {
   "cell_type": "code",
   "execution_count": null,
   "id": "f993f4f3-fdf5-4887-bf23-e6727164d26d",
   "metadata": {},
   "outputs": [],
   "source": []
  },
  {
   "cell_type": "code",
   "execution_count": null,
   "id": "4692d48a-d2a6-41e1-b43b-3e116bb56bf7",
   "metadata": {},
   "outputs": [],
   "source": []
  }
 ],
 "metadata": {
  "kernelspec": {
   "display_name": "Python 3 (ipykernel)",
   "language": "python",
   "name": "python3"
  },
  "language_info": {
   "codemirror_mode": {
    "name": "ipython",
    "version": 3
   },
   "file_extension": ".py",
   "mimetype": "text/x-python",
   "name": "python",
   "nbconvert_exporter": "python",
   "pygments_lexer": "ipython3",
   "version": "3.12.7"
  }
 },
 "nbformat": 4,
 "nbformat_minor": 5
}
